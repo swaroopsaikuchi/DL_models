{
  "nbformat": 4,
  "nbformat_minor": 0,
  "metadata": {
    "colab": {
      "provenance": [],
      "authorship_tag": "ABX9TyOQfIzvgc8sTPyH8WhRqfj/",
      "include_colab_link": true
    },
    "kernelspec": {
      "name": "python3",
      "display_name": "Python 3"
    },
    "language_info": {
      "name": "python"
    }
  },
  "cells": [
    {
      "cell_type": "markdown",
      "metadata": {
        "id": "view-in-github",
        "colab_type": "text"
      },
      "source": [
        "<a href=\"https://colab.research.google.com/github/swaroopsaikuchi/deep_learning_model/blob/main/Data_preprocessing_insurance_dataset.ipynb\" target=\"_parent\"><img src=\"https://colab.research.google.com/assets/colab-badge.svg\" alt=\"Open In Colab\"/></a>"
      ]
    },
    {
      "cell_type": "code",
      "execution_count": 29,
      "metadata": {
        "colab": {
          "base_uri": "https://localhost:8080/"
        },
        "id": "shiI03ochtGY",
        "outputId": "b3bb92e8-0ad7-4b08-fa55-1763a72ec761"
      },
      "outputs": [
        {
          "output_type": "execute_result",
          "data": {
            "text/plain": [
              "(array([[0.60869565, 0.10734463, 0.4       , ..., 1.        , 0.        ,\n",
              "         0.        ],\n",
              "        [0.63043478, 0.22491256, 0.        , ..., 0.        , 0.        ,\n",
              "         0.        ],\n",
              "        [0.73913043, 0.23944041, 0.        , ..., 0.        , 1.        ,\n",
              "         0.        ],\n",
              "        ...,\n",
              "        [0.86956522, 0.24791499, 0.        , ..., 0.        , 0.        ,\n",
              "         0.        ],\n",
              "        [0.41304348, 0.85122411, 0.4       , ..., 0.        , 0.        ,\n",
              "         1.        ],\n",
              "        [0.80434783, 0.37503363, 0.        , ..., 0.        , 0.        ,\n",
              "         1.        ]]),\n",
              " array([[0.58695652, 0.24791499, 0.4       , ..., 0.        , 0.        ,\n",
              "         0.        ],\n",
              "        [0.39130435, 0.37826204, 0.        , ..., 1.        , 0.        ,\n",
              "         0.        ],\n",
              "        [1.        , 0.29391983, 0.        , ..., 1.        , 0.        ,\n",
              "         0.        ],\n",
              "        ...,\n",
              "        [0.43478261, 0.32458972, 0.2       , ..., 0.        , 0.        ,\n",
              "         0.        ],\n",
              "        [0.7826087 , 0.84611246, 0.        , ..., 0.        , 1.        ,\n",
              "         0.        ],\n",
              "        [0.7173913 , 0.49071832, 0.2       , ..., 0.        , 0.        ,\n",
              "         1.        ]]))"
            ]
          },
          "metadata": {},
          "execution_count": 29
        }
      ],
      "source": [
        "import pandas as pd\n",
        "import tensorflow as tf\n",
        "import matplotlib.pyplot as plt\n",
        "from sklearn.compose import make_column_transformer\n",
        "from sklearn.preprocessing import MinMaxScaler, OneHotEncoder\n",
        "from sklearn.model_selection import train_test_split\n",
        "# create a column transformer\n",
        "ct = make_column_transformer(\n",
        "    (MinMaxScaler(),[\"age\",\"bmi\",\"children\"]),\n",
        "    (OneHotEncoder(),[\"sex\",\"smoker\",\"region\"])\n",
        ")\n",
        "ct.fit(x_train)\n",
        "x_train_normal = ct.transform(x_train)\n",
        "x_test_normal = ct.transform(x_test)\n",
        "x_train_normal,x_test_normal"
      ]
    },
    {
      "cell_type": "code",
      "source": [
        "model = pd.read_csv(\"https://raw.githubusercontent.com/stedy/Machine-Learning-with-R-datasets/master/insurance.csv\")\n",
        "model"
      ],
      "metadata": {
        "id": "ojlMxsJYiz1e"
      },
      "execution_count": null,
      "outputs": []
    },
    {
      "cell_type": "code",
      "source": [
        "x = model.drop(\"charges\",axis = 1)\n",
        "y = model[\"charges\"]\n",
        "x,y"
      ],
      "metadata": {
        "colab": {
          "base_uri": "https://localhost:8080/"
        },
        "id": "yPk416ZKi7Qd",
        "outputId": "555419ec-0723-4660-979a-0185cd6e0758"
      },
      "execution_count": 31,
      "outputs": [
        {
          "output_type": "execute_result",
          "data": {
            "text/plain": [
              "(      age     sex     bmi  children smoker     region\n",
              " 0      19  female  27.900         0    yes  southwest\n",
              " 1      18    male  33.770         1     no  southeast\n",
              " 2      28    male  33.000         3     no  southeast\n",
              " 3      33    male  22.705         0     no  northwest\n",
              " 4      32    male  28.880         0     no  northwest\n",
              " ...   ...     ...     ...       ...    ...        ...\n",
              " 1333   50    male  30.970         3     no  northwest\n",
              " 1334   18  female  31.920         0     no  northeast\n",
              " 1335   18  female  36.850         0     no  southeast\n",
              " 1336   21  female  25.800         0     no  southwest\n",
              " 1337   61  female  29.070         0    yes  northwest\n",
              " \n",
              " [1338 rows x 6 columns],\n",
              " 0       16884.92400\n",
              " 1        1725.55230\n",
              " 2        4449.46200\n",
              " 3       21984.47061\n",
              " 4        3866.85520\n",
              "            ...     \n",
              " 1333    10600.54830\n",
              " 1334     2205.98080\n",
              " 1335     1629.83350\n",
              " 1336     2007.94500\n",
              " 1337    29141.36030\n",
              " Name: charges, Length: 1338, dtype: float64)"
            ]
          },
          "metadata": {},
          "execution_count": 31
        }
      ]
    },
    {
      "cell_type": "code",
      "source": [
        "x_train,x_test,y_train,y_test = train_test_split(x,y,train_size= 0.8,random_state=42)\n",
        "#x_train,x_test,y_train,y_test = train_test_split(x,y,test_size = 0.2,random_state=42)"
      ],
      "metadata": {
        "id": "hbZSD715jz2Z"
      },
      "execution_count": 32,
      "outputs": []
    },
    {
      "cell_type": "code",
      "source": [
        "# now lets build a neural network\n",
        "model = tf.keras.Sequential([\n",
        "    tf.keras.layers.Dense(100),\n",
        "    tf.keras.layers.Dense(10),\n",
        "    tf.keras.layers.Dense(1)\n",
        "])\n",
        "model.compile(loss = \"mae\",\n",
        "              optimizer = tf.keras.optimizers.Adam(),\n",
        "              metrics = [\"mae\"]\n",
        "              )\n",
        "\n",
        "model.fit(x_train_normal,y_train, epochs = 200)"
      ],
      "metadata": {
        "id": "rcqXpAe8kcRE"
      },
      "execution_count": null,
      "outputs": []
    },
    {
      "cell_type": "code",
      "source": [
        "model.predict(x_test_normal)"
      ],
      "metadata": {
        "id": "l5gv3eBipAqB"
      },
      "execution_count": null,
      "outputs": []
    },
    {
      "cell_type": "code",
      "source": [
        "model.evaluate(x_test_normal,y_test)"
      ],
      "metadata": {
        "colab": {
          "base_uri": "https://localhost:8080/"
        },
        "id": "NZYL0-kwpiSh",
        "outputId": "93465d8d-9347-448f-a60b-818a139dbb4c"
      },
      "execution_count": 39,
      "outputs": [
        {
          "output_type": "stream",
          "name": "stdout",
          "text": [
            "9/9 [==============================] - 0s 5ms/step - loss: 3166.3379 - mae: 3166.3379\n"
          ]
        },
        {
          "output_type": "execute_result",
          "data": {
            "text/plain": [
              "[3166.337890625, 3166.337890625]"
            ]
          },
          "metadata": {},
          "execution_count": 39
        }
      ]
    }
  ]
}